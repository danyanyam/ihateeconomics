{
 "cells": [
  {
   "cell_type": "code",
   "execution_count": 102,
   "metadata": {},
   "outputs": [],
   "source": [
    "aum = 1000000\n",
    "allocs = [0.4, 0.2, 0.4]\n",
    "symbols = ['SPY', 'GOOG', 'IBM']\n",
    "dates = pd.date_range('2019-01-01', '2019-07-12')"
   ]
  },
  {
   "cell_type": "code",
   "execution_count": 108,
   "metadata": {},
   "outputs": [
    {
     "ename": "SyntaxError",
     "evalue": "invalid syntax (<ipython-input-108-48d8ce5f2866>, line 84)",
     "output_type": "error",
     "traceback": [
      "\u001b[1;36m  File \u001b[1;32m\"<ipython-input-108-48d8ce5f2866>\"\u001b[1;36m, line \u001b[1;32m84\u001b[0m\n\u001b[1;33m    if adj='daily':\u001b[0m\n\u001b[1;37m          ^\u001b[0m\n\u001b[1;31mSyntaxError\u001b[0m\u001b[1;31m:\u001b[0m invalid syntax\n"
     ]
    }
   ],
   "source": [
    "class Portfel():\n",
    "    '''Класс портфель выполняет позволяет составить портфель из выбранных бумаг и получить краткие статистики'''\n",
    "    def __init__(self, symbols, dates, allocs, aum):\n",
    "        self.dates = dates\n",
    "        self.symbols = symbols\n",
    "        self.allocs = allocs\n",
    "        self.aum = aum\n",
    "        self.values = self.get_portfel_values\n",
    "        self.returns = self.get_portfel_returns\n",
    "        self.all_shares = self.get_data\n",
    "        \n",
    "    def help(self):\n",
    "        methods = [\n",
    "            'dates',\n",
    "            'symbols',\n",
    "            'allocs',\n",
    "            'aum',\n",
    "            'returns',\n",
    "            'values',\n",
    "            'returns',\n",
    "            'all_shares',\n",
    "            'get_portfel_values',\n",
    "            'returns_hist()']\n",
    "        return methods\n",
    "    \n",
    "    def get_data(self, base='data/'):\n",
    "        '''\n",
    "        Получает цену акций (Adj Close) для данного symbol из CSV файла\n",
    "        '''\n",
    "        # Создаем пустой датафрейм и удостоверимся, что SPY будет на первом месте\n",
    "        df = pd.DataFrame(index=self.dates)\n",
    "        if 'SPY' not in self.symbols:\n",
    "             self.symbols.insert(0, 'SPY')\n",
    "    \n",
    "        for symbol in self.symbols:\n",
    "            df_temp = pd.read_csv(base + symbol + '.csv', index_col='Date', usecols=['Date', 'Adj Close'], parse_dates=True, na_values=['nan']) \n",
    "            df_temp = df_temp.rename(columns={'Adj Close': symbol})\n",
    "            df = df.join(df_temp, how='inner')\n",
    "        return df\n",
    "        \n",
    "    def get_portfel_values(self):\n",
    "        '''Подсчитываем стоимость портфеля в каждый период времени'''\n",
    "        df_normed = self.get_data().copy()\n",
    "        df_normed = df_normed / df_normed.iloc[0, :]\n",
    "        alloced = df_normed * allocs * aum\n",
    "        port_values = alloced.sum(axis=1)\n",
    "        return port_values\n",
    "    \n",
    "    def get_portfel_returns(self, accumulated=False, average=False, std=False):\n",
    "        '''Подсчитываем изменение стоимости портфеля во времени'''\n",
    "        df_returns = self.get_portfel_values()\n",
    "        df_returns =  (df_returns / df_returns.shift(1)) - 1\n",
    "        df_returns[0] = 0\n",
    "        if accumulated == True:\n",
    "            return df_returns.sum()\n",
    "        elif average == True:\n",
    "            return df_returns.mean()\n",
    "        elif std == True:\n",
    "            return df_returns.std()\n",
    "        else:\n",
    "            return df_returns\n",
    "        \n",
    "    def returns_hist(self, bins=10, lines=True):\n",
    "        df = self.returns()\n",
    "        df.hist(bins=bins)\n",
    "        mean = df.mean()\n",
    "        std = df.std()\n",
    "        \n",
    "        # Чертим вертикальную белую черту, отображающую среднее значение\n",
    "        # Чертим вертикальные красные линии, отображающие отклонения\n",
    "        if lines == True:\n",
    "            plt.axvline(mean, color='w', linestyle='dashed', linewidth=2, label='Mean')\n",
    "            plt.axvline(std, color='r', linestyle='dashed', linewidth=2, label='STD')\n",
    "            plt.axvline(-std, color='r', linestyle='dashed', linewidth=2)\n",
    "        plt.title('Portfel Returns')\n",
    "        plt.xlabel('Return')\n",
    "        plt.ylabel('# of days')\n",
    "        plt.legend()\n",
    "        plt.show()\n",
    "        \n",
    "    def sharpe(self, rr=0, adj='daily'):\n",
    "        numenator = (self.returns - rr).mean()\n",
    "        denumenator = (self.returns - rr).std()\n",
    "        if adj='daily':\n",
    "            return np.sqrt(252) * numenator / denumenator\n",
    "        if adj='weekly':\n",
    "            return np.sqrt(52) * numenator / denumenator\n",
    "        if adj='monthly':\n",
    "            return np.sqrt(12) * numenator / denumenator\n",
    "    "
   ]
  },
  {
   "cell_type": "code",
   "execution_count": 77,
   "metadata": {},
   "outputs": [],
   "source": [
    "class Stocks():\n",
    "    def __init__(self, symbols, dates):\n",
    "        self.dates = dates\n",
    "        self.symbols = symbols\n",
    "        self.prices = self.get_data\n",
    "        self.plot = self.get_plot_df\n",
    "        self.returns = self.get_daily_returns\n",
    "        \n",
    "    def get_data(self, base='data/'):\n",
    "        '''\n",
    "        Получает цену акций (Adj Close) для данного symbol из CSV файла\n",
    "        '''\n",
    "        # Создаем пустой датафрейм и удостоверимся, что SPY будет на первом месте\n",
    "        df = pd.DataFrame(index=self.dates)\n",
    "        if 'SPY' not in self.symbols:\n",
    "            self.symbols.insert(0, 'SPY')\n",
    "    \n",
    "        for symbol in self.symbols:\n",
    "            df_temp = pd.read_csv(base + symbol + '.csv', index_col='Date', usecols=['Date', 'Adj Close'], parse_dates=True, na_values=['nan']) \n",
    "            df_temp = df_temp.rename(columns={'Adj Close': symbol})\n",
    "            df = df.join(df_temp, how='inner')\n",
    "        return df\n",
    "        \n",
    "    def get_plot_df(self, title='Цены на акции', relative=False):\n",
    "        '''Рисует графики цен всего DataFrame'''\n",
    "        if relative == False:\n",
    "            df = self.prices()\n",
    "            df.plot(title=title, fontsize=11)\n",
    "            plt.xlabel('Дата')\n",
    "            plt.ylabel('Цены')\n",
    "        if relative == True:\n",
    "            df = self.prices() / self.prices().iloc[0, :]\n",
    "            df.plot(title='Изменение цен на акции')\n",
    "        plt.show()\n",
    "        \n",
    "    def plot_selected(self, columns, start_index, end_index, relative=False):\n",
    "        '''Рисует графики цен указанных столбцов'''\n",
    "        df = self.prices().loc[start_index:end_index, columns]\n",
    "        if relative == False:\n",
    "            df.plot(title='Цены на акции', fontsize=11)\n",
    "            plt.xlabel('Дата')\n",
    "            plt.ylabel('Цены')\n",
    "            plt.show()\n",
    "        elif relative == True:\n",
    "            df = df / df.iloc[0, :]\n",
    "            df.plot(title='Изменение цен на акции')\n",
    "            plt.show()\n",
    "            \n",
    "    def get_rolling_mean(self, symbol, window=20):\n",
    "        return self.prices()[symbol].rolling(window).mean()\n",
    "    \n",
    "    def plot_rolling_mean(self, symbol, window, add=None):\n",
    "        df = self.get_rolling_mean(symbol, window=window)\n",
    "        df.plot(title='Скользящее среднее')\n",
    "        if add == 'bolinger':\n",
    "            mean = df.rolling(window).mean()\n",
    "            std = df.rolling(window).std()\n",
    "            lower_bond = mean - 2 * std\n",
    "            upper_bond = mean + 2 * std\n",
    "        plt.plot(lower_bond, color='r', label='lower bond')\n",
    "        plt.plot(upper_bond, color='r', label='upper bond')\n",
    "        plt.plot(mean, color='g', label='average')\n",
    "        plt.xlabel('Date')\n",
    "        plt.ylabel('Price')\n",
    "        plt.legend()\n",
    "        plt.show()\n",
    "        \n",
    "    def get_double_hist(self, symbols, bins=20, alpha=0.7):\n",
    "        '''Создаем две диаграммы для двух бумаг'''\n",
    "        df = self.returns()\n",
    "        for symbol in symbols:\n",
    "            df[symbol].hist(bins=bins, label=symbol, alpha=alpha)\n",
    "        plt.legend()\n",
    "    \n",
    "    def get_daily_returns(self):\n",
    "        daily_returns = self.prices()\n",
    "        daily_returns[1:] = (daily_returns / daily_returns.shift(1)) - 1\n",
    "        daily_returns.iloc[0, :] = 0\n",
    "        return daily_returns\n",
    "    \n",
    "    def help(self):\n",
    "        methods = [\n",
    "            'dates',\n",
    "            'symbols',\n",
    "            'prices',\n",
    "            'plot',\n",
    "            'returns',\n",
    "            'plot_selected(symbols, start, end)',\n",
    "            'get_rolling_mean(symbol, window)',\n",
    "            'get_daily_returns',\n",
    "            'get_double_hist(symbols)'\n",
    "        ]\n",
    "        return methods\n",
    "    "
   ]
  },
  {
   "cell_type": "markdown",
   "metadata": {},
   "source": [
    "#### Статистики портфеля"
   ]
  },
  {
   "cell_type": "markdown",
   "metadata": {},
   "source": [
    "Sharp Ratio может быть вычислен по седующей формуле:\n",
    "$SR = \\frac{R_p - R_f}{\\sigma_p}$, где\n",
    "\n",
    "$ R_p - $ returns портфеля\n",
    "\n",
    "$ R_f - $ returns risk-free\n",
    "\n",
    "$ \\sigma_p - $ стандартное отклонение портфеля"
   ]
  },
  {
   "cell_type": "markdown",
   "metadata": {},
   "source": [
    "Мы будем использовать другую формулировку.\n",
    "\n",
    "Что брать в качестве risk-free rate?\n",
    "\n",
    "1. Libor (London Interbank Offer Rate)\n",
    "2. 3-month Treasury bill\n",
    "3. 0%\n"
   ]
  },
  {
   "cell_type": "markdown",
   "metadata": {},
   "source": [
    "Как превратить годовую ставку risk free в ежедневную?\n",
    "\n",
    "daily_rf = 252rt(1.0 + 0.1) - 1"
   ]
  },
  {
   "cell_type": "markdown",
   "metadata": {},
   "source": [
    "SR - annual measure\n",
    "\n",
    "$SR_{annualized} = K * SR$\n",
    "\n",
    "K - это корень из #samples per year, т.е из 252, если ежедневная основа, из 52, если недельная, из 12, если месячная"
   ]
  },
  {
   "cell_type": "code",
   "execution_count": 1,
   "metadata": {},
   "outputs": [
    {
     "data": {
      "text/plain": [
       "0.8"
      ]
     },
     "execution_count": 1,
     "metadata": {},
     "output_type": "execute_result"
    }
   ],
   "source": [
    "(0.001-0.0002)/0.001"
   ]
  },
  {
   "cell_type": "code",
   "execution_count": 1,
   "metadata": {},
   "outputs": [],
   "source": [
    "import pandas as pd\n",
    "import matplotlib.pyplot as plt\n",
    "import numpy as np"
   ]
  },
  {
   "cell_type": "code",
   "execution_count": 3,
   "metadata": {},
   "outputs": [],
   "source": [
    "def symbol_to_path(symbol, base_dir=\"data\"):\n",
    "    return  base_dir + \"/{}.csv\".format(str(symbol))\n",
    "\n",
    "def get_data(symbols, dates):\n",
    "    '''\n",
    "    Получает цену акций (Adj Close) для данного symbol из CSV файла\n",
    "    '''\n",
    "    # Создаем пустой датафрейм и удостоверимся, что SPY будет на первом месте\n",
    "    df = pd.DataFrame(index=dates)\n",
    "    if 'SPY' not in symbols:\n",
    "        symbols.insert(0, 'SPY')\n",
    "    \n",
    "    for symbol in symbols:\n",
    "        df_temp = pd.read_csv(symbol_to_path(symbol), index_col='Date', usecols=['Date', 'Adj Close'], parse_dates=True, na_values=['nan']) \n",
    "        df_temp = df_temp.rename(columns={'Adj Close': symbol})\n",
    "        df = df.join(df_temp, how='inner')\n",
    "    return df\n",
    "\n",
    "def plot_df(df, title='Цены на акции'):\n",
    "    '''Рисует графики цен всего DataFrame'''\n",
    "    df.plot(title=title, fontsize=11)\n",
    "    plt.xlabel('Дата')\n",
    "    plt.ylabel('Цены')\n",
    "    plt.show()\n",
    "\n",
    "def plot_selected(df, columns, start_index, end_index):\n",
    "    '''Рисует графики цен указанных столбцов'''\n",
    "    df.loc[start_index:end_index, columns].plot(title='Цены на акции', fontsize=11)\n",
    "    plt.xlabel('Дата')\n",
    "    plt.ylabel('Цены')\n",
    "    plt.show()    \n",
    "    \n",
    "def normalize_data(df):\n",
    "    '''Нормализует весь датафрэйм для отображения изменения цен.'''\n",
    "    df = df / df.iloc[0, :]\n",
    "    return df\n",
    "\n",
    "def get_rolling_mean(df, window):\n",
    "    return df.rolling(window).mean()\n",
    "\n",
    "def get_rolling_std(df, window):\n",
    "    return df.rolling(window).std()\n",
    "\n",
    "def get_Boolinger_bonds(rm, rstd):\n",
    "    upper_bond = rm + 2 * rstd\n",
    "    lower_bond = rm - 2 * rstd\n",
    "    return lower_bond, upper_bond\n",
    "\n",
    "def get_daily_return(df):\n",
    "    daily_returns = df.copy()\n",
    "    daily_returns[1:] = (df / df.shift(1)) - 1\n",
    "    daily_returns.iloc[0, :] = 0\n",
    "    return daily_returns\n",
    "\n",
    "def get_hist(df, bins=20):\n",
    "    df.hist(bins=bins)\n",
    "    mean = df.mean()\n",
    "    std = df.std()\n",
    "    \n",
    "    # Чертим вертикальную белую черту, отображающую среднее значение\n",
    "    # Чертим вертикальные красные линии, отображающие отклонения\n",
    "    plt.axvline(mean, color='w', linestyle='dashed', linewidth=2)\n",
    "    plt.axvline(std, color='r', linestyle='dashed', linewidth=2)\n",
    "    plt.axvline(-std, color='r', linestyle='dashed', linewidth=2)\n",
    "    plt.show()\n",
    "    \n",
    "def get_double_hist(df, bins=20, alpha=0.7):\n",
    "    '''Создаем две диаграммы для двух бумаг'''\n",
    "    for symbol in df.keys():\n",
    "        df[symbol].hist(bins=bins, label=symbol, alpha=alpha)\n",
    "    plt.legend()\n",
    "\n",
    "def get_portf_values(df, allocs, aum):\n",
    "    '''Подсчитываем стоимость портфеля в каждый период времени'''\n",
    "    df_normed = df.copy()\n",
    "    df_normed = df_normed / df_normed.iloc[0, :]\n",
    "    alloced = df_normed * allocs * aum\n",
    "    port_values = alloced.sum(axis=1)\n",
    "    return port_values\n",
    "\n",
    "def get_portfolio_returns(series):\n",
    "    '''Подсчитываем изменение стоимости портфеля во времени'''\n",
    "    df_returns = series.copy()\n",
    "    df_returns =  (df_returns / df_returns.shift(1)) - 1\n",
    "    df_returns[0] = 0\n",
    "    return df_returns"
   ]
  },
  {
   "cell_type": "code",
   "execution_count": 107,
   "metadata": {},
   "outputs": [
    {
     "ename": "AttributeError",
     "evalue": "'Portfel' object has no attribute 'sharpe'",
     "output_type": "error",
     "traceback": [
      "\u001b[1;31m---------------------------------------------------------------------------\u001b[0m",
      "\u001b[1;31mAttributeError\u001b[0m                            Traceback (most recent call last)",
      "\u001b[1;32m<ipython-input-107-258b9de5ffe5>\u001b[0m in \u001b[0;36m<module>\u001b[1;34m\u001b[0m\n\u001b[0;32m      1\u001b[0m \u001b[0mportfel\u001b[0m \u001b[1;33m=\u001b[0m \u001b[0mPortfel\u001b[0m\u001b[1;33m(\u001b[0m\u001b[0msymbols\u001b[0m\u001b[1;33m,\u001b[0m \u001b[0mdates\u001b[0m\u001b[1;33m,\u001b[0m \u001b[0mallocs\u001b[0m\u001b[1;33m,\u001b[0m \u001b[0maum\u001b[0m\u001b[1;33m)\u001b[0m\u001b[1;33m\u001b[0m\u001b[1;33m\u001b[0m\u001b[0m\n\u001b[1;32m----> 2\u001b[1;33m \u001b[0mportfel\u001b[0m\u001b[1;33m.\u001b[0m\u001b[0msharpe\u001b[0m\u001b[1;33m\u001b[0m\u001b[1;33m\u001b[0m\u001b[0m\n\u001b[0m",
      "\u001b[1;31mAttributeError\u001b[0m: 'Portfel' object has no attribute 'sharpe'"
     ]
    }
   ],
   "source": [
    "portfel = Portfel(symbols, dates, allocs, aum)\n",
    "portfel.sharpe\n"
   ]
  },
  {
   "cell_type": "code",
   "execution_count": 79,
   "metadata": {
    "scrolled": true
   },
   "outputs": [
    {
     "data": {
      "image/png": "[encoded data removed]",
      "text/plain": [
       "<Figure size 432x288 with 1 Axes>"
      ]
     },
     "metadata": {
      "needs_background": "light"
     },
     "output_type": "display_data"
    }
   ],
   "source": [
    "stocks = Stocks(symbols, dates)\n",
    "stocks.plot_selected(['IBM', 'GOOG', 'SPY'], '2019-01-02', '2019-02-02', relative=True)"
   ]
  },
  {
   "cell_type": "code",
   "execution_count": 106,
   "metadata": {},
   "outputs": [
    {
     "ename": "AttributeError",
     "evalue": "'Portfel' object has no attribute 'sharpe'",
     "output_type": "error",
     "traceback": [
      "\u001b[1;31m---------------------------------------------------------------------------\u001b[0m",
      "\u001b[1;31mAttributeError\u001b[0m                            Traceback (most recent call last)",
      "\u001b[1;32m<ipython-input-106-2e8a56626174>\u001b[0m in \u001b[0;36m<module>\u001b[1;34m\u001b[0m\n\u001b[1;32m----> 1\u001b[1;33m \u001b[0mportfel\u001b[0m\u001b[1;33m.\u001b[0m\u001b[0msharpe\u001b[0m\u001b[1;33m\u001b[0m\u001b[1;33m\u001b[0m\u001b[0m\n\u001b[0m",
      "\u001b[1;31mAttributeError\u001b[0m: 'Portfel' object has no attribute 'sharpe'"
     ]
    }
   ],
   "source": [
    "portfel.sharpe"
   ]
  },
  {
   "cell_type": "code",
   "execution_count": null,
   "metadata": {},
   "outputs": [],
   "source": []
  }
 ],
 "metadata": {
  "kernelspec": {
   "display_name": "Python 3",
   "language": "python",
   "name": "python3"
  },
  "language_info": {
   "codemirror_mode": {
    "name": "ipython",
    "version": 3
   },
   "file_extension": ".py",
   "mimetype": "text/x-python",
   "name": "python",
   "nbconvert_exporter": "python",
   "pygments_lexer": "ipython3",
   "version": "3.7.3"
  }
 },
 "nbformat": 4,
 "nbformat_minor": 2
}
