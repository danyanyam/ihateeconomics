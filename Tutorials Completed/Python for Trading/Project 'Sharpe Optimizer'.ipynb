{
 "cells": [
  {
   "cell_type": "code",
   "execution_count": 1,
   "metadata": {},
   "outputs": [],
   "source": [
    "import pandas as pd\n",
    "import numpy as np\n",
    "import matplotlib.pyplot as plt\n",
    "import scipy.optimize as spo\n",
    "from utilities import Stocks, Portfel"
   ]
  },
  {
   "cell_type": "code",
   "execution_count": 2,
   "metadata": {},
   "outputs": [],
   "source": [
    "start_date = '2019-01-01'\n",
    "end_date = '2019-07-17'\n",
    "dates = pd.date_range(start_date, end_date)\n",
    "symbols = ['SPY', 'GOOG', 'XOM', 'GLD', 'IBM', 'AAPL']\n",
    "allocs = [0.3, 0.1, 0.1, 0.1, 0.1, 0.3]\n",
    "aum = 100000"
   ]
  },
  {
   "cell_type": "code",
   "execution_count": 3,
   "metadata": {},
   "outputs": [],
   "source": [
    "portfel = Portfel(symbols, dates, allocs, aum)"
   ]
  },
  {
   "cell_type": "code",
   "execution_count": 6,
   "metadata": {},
   "outputs": [
    {
     "name": "stdout",
     "output_type": "stream",
     "text": [
      "Optimization terminated successfully.    (Exit mode 0)\n",
      "            Current function value: -0.282827424629044\n",
      "            Iterations: 1\n",
      "            Function evaluations: 8\n",
      "            Gradient evaluations: 1\n"
     ]
    }
   ],
   "source": [
    "# Эти функции позволяют оптимально аллоцировать соотношение ценных бумаг в портфеле\n",
    "\n",
    "def f(allocs):\n",
    "    # Если максим что-то другое меняем тут\n",
    "    portfel.allocs = allocs\n",
    "    return -portfel.returns(True)\n",
    "\n",
    "# Вспомогательная функция нужна для оптимизатора\n",
    "def bound_returner(allocs):\n",
    "    bound = []\n",
    "    z = len(allocs)\n",
    "    for i in range(z):\n",
    "        bound.append((0, 1))\n",
    "    return bound\n",
    "\n",
    "# Вспомогательная функция, нужна для определения условий оптимизации\n",
    "def con(t):\n",
    "    return t.sum() - 1\n",
    "\n",
    "min_result = spo.minimize(f,\n",
    "                          portfel.allocs,\n",
    "                          method='SLSQP',\n",
    "                          options={'disp': True},\n",
    "                          bounds=bound_returner(portfel.allocs),\n",
    "                          constraints={'type':'eq', 'fun': con})\n",
    "\n",
    "# Оптимизатор не может обеспечить глобальную сходимость,\n",
    "# однако если повторить его работу много раз с разной начальной инициализацией весов\n",
    "# то можно попытаться добиться хорошего результата."
   ]
  },
  {
   "cell_type": "code",
   "execution_count": 7,
   "metadata": {},
   "outputs": [
    {
     "name": "stdout",
     "output_type": "stream",
     "text": [
      "0.282827424629044\n",
      "[0.00000000e+00 0.00000000e+00 0.00000000e+00 1.14326478e-16\n",
      " 0.00000000e+00 1.00000000e+00]\n"
     ]
    }
   ],
   "source": [
    "# Посмотрим на оптимизированные данные\n",
    "portfel.allocs = list(min_result.x)\n",
    "returns_optimized = portfel.returns(accumulated=True)\n",
    "print(returns_optimized)\n",
    "\n",
    "# Посмотрим на оптимизированные веса\n",
    "weights = list(min_result.x)\n",
    "print(np.array(weights))"
   ]
  },
  {
   "cell_type": "code",
   "execution_count": null,
   "metadata": {},
   "outputs": [],
   "source": []
  }
 ],
 "metadata": {
  "kernelspec": {
   "display_name": "Python 3",
   "language": "python",
   "name": "python3"
  },
  "language_info": {
   "codemirror_mode": {
    "name": "ipython",
    "version": 3
   },
   "file_extension": ".py",
   "mimetype": "text/x-python",
   "name": "python",
   "nbconvert_exporter": "python",
   "pygments_lexer": "ipython3",
   "version": "3.7.3"
  }
 },
 "nbformat": 4,
 "nbformat_minor": 2
}
