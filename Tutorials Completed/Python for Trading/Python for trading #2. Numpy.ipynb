{
 "cells": [
  {
   "cell_type": "code",
   "execution_count": 44,
   "metadata": {},
   "outputs": [],
   "source": [
    "import numpy as np\n",
    "import pandas as pd\n",
    "import time"
   ]
  },
  {
   "cell_type": "code",
   "execution_count": 43,
   "metadata": {},
   "outputs": [
    {
     "name": "stdout",
     "output_type": "stream",
     "text": [
      "1.  [0.88946347 0.81639941 0.40627714 0.49699719 0.97432477 0.09125587]\n",
      "2.  [1 1 1 1 1 1]\n",
      "3.  [[0.13657094 0.02453187 0.22219117 0.47257294 0.48409622 0.01408372]]\n",
      "4.  -0.04747899356997281\n",
      "5.  [2 1 5 1 5 2]\n",
      "6.  12\n"
     ]
    }
   ],
   "source": [
    "# Создание пустого массива\n",
    "print('1. ', np.empty(6))\n",
    "\n",
    "# Массив единиц\n",
    "print('2. ', np.ones(6, dtype=int))\n",
    "\n",
    "# Массив случайного числа в промежутке [0; 1)\n",
    "print('3. ', np.random.random((1, 6)))     # Или np.random.rand(1, 6) Разница в том, что мы передаем последовательность чисел в... \n",
    "                                          # ...качестве аргумента вместо кортежа\n",
    "# Cлучайная величина из нормально стандартного распределения (можно указать в качестве аргумента size=(x, y)....\n",
    "print('4. ', np.random.normal())       #  ....чтобы получить массив)\n",
    "\n",
    "# Случайное целое число из равновероятного распределения с указанием границ\n",
    "print('5. ', np.random.randint(0, 10, size=6)) \n",
    "\n",
    "# Сколько элементов в массиве\n",
    "print('6. ', np.ones((6, 2)).size)\n"
   ]
  },
  {
   "cell_type": "markdown",
   "metadata": {},
   "source": [
    "### Как измерять время операции.\n"
   ]
  },
  {
   "cell_type": "code",
   "execution_count": 49,
   "metadata": {},
   "outputs": [
    {
     "name": "stdout",
     "output_type": "stream",
     "text": [
      "2\n",
      "0.0\n"
     ]
    }
   ],
   "source": [
    "t1 = time.time()\n",
    "a = 2\n",
    "print(a)\n",
    "t2 = time.time()\n",
    "print(t2 - t1)"
   ]
  },
  {
   "cell_type": "code",
   "execution_count": 58,
   "metadata": {},
   "outputs": [],
   "source": [
    "def supersum(*args):\n",
    "    return sum([*args])"
   ]
  },
  {
   "cell_type": "code",
   "execution_count": 61,
   "metadata": {},
   "outputs": [
    {
     "name": "stdout",
     "output_type": "stream",
     "text": [
      "25\n"
     ]
    }
   ],
   "source": [
    "print(supersum(2, 3, 5, 6, 9))"
   ]
  },
  {
   "cell_type": "code",
   "execution_count": null,
   "metadata": {},
   "outputs": [],
   "source": []
  }
 ],
 "metadata": {
  "kernelspec": {
   "display_name": "Python 3",
   "language": "python",
   "name": "python3"
  },
  "language_info": {
   "codemirror_mode": {
    "name": "ipython",
    "version": 3
   },
   "file_extension": ".py",
   "mimetype": "text/x-python",
   "name": "python",
   "nbconvert_exporter": "python",
   "pygments_lexer": "ipython3",
   "version": "3.7.3"
  }
 },
 "nbformat": 4,
 "nbformat_minor": 2
}
