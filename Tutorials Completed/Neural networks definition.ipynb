{
 "cells": [
  {
   "cell_type": "code",
   "execution_count": 2,
   "metadata": {},
   "outputs": [],
   "source": [
    "import torch\n",
    "import torch.nn as nn\n",
    "import torch.nn.functional as F"
   ]
  },
  {
   "cell_type": "markdown",
   "metadata": {},
   "source": [
    "## Определение архитектуры LeNet"
   ]
  },
  {
   "cell_type": "code",
   "execution_count": 9,
   "metadata": {},
   "outputs": [
    {
     "name": "stdout",
     "output_type": "stream",
     "text": [
      "Net(\n",
      "  (conv1): Conv2d(1, 6, kernel_size=(3, 3), stride=(1, 1))\n",
      "  (conv2): Conv2d(6, 16, kernel_size=(3, 3), stride=(1, 1))\n",
      "  (fc1): Linear(in_features=576, out_features=120, bias=True)\n",
      "  (fc2): Linear(in_features=120, out_features=84, bias=True)\n",
      "  (fc3): Linear(in_features=84, out_features=10, bias=True)\n",
      ")\n"
     ]
    }
   ],
   "source": [
    "class Net(nn.Module):\n",
    "    def __init__(self):\n",
    "        super(Net, self).__init__()\n",
    "        # 1 входное изображение, 6 выходных каналов, 3х3 квадратная свертка\n",
    "        # kernel \n",
    "        self.conv1 = nn.Conv2d(1, 6, 3)\n",
    "        self.conv2 = nn.Conv2d(6, 16, 3)\n",
    "    \n",
    "        self.fc1 = nn.Linear(16 * 6 * 6, 120)\n",
    "        self.fc2 = nn.Linear(120, 84)\n",
    "        self.fc3 = nn.Linear(84, 10)\n",
    "        \n",
    "    def forward(self, x):\n",
    "        # Max-Pooling через (2, 2) окно\n",
    "        x = F.max_pool2d(F.relu(self.conv1(x)), (2, 2))\n",
    "        # Если размер окна - квадрат, то можно указывать только одно число\n",
    "        x = F.max_pool2d(F.relu(self.conv2(x)), 2)\n",
    "        x = x.view(-1, self.num_flat_features(x))\n",
    "        x = F.relu(self.fc1(x))\n",
    "        x = F.relu(self.fc2(x))\n",
    "        x = self.fc3(x)\n",
    "        return x\n",
    "    \n",
    "    def num_flat_features(self, x):\n",
    "        size = x.size()[1:]\n",
    "        num_features = 1\n",
    "        for s in size:\n",
    "            num_features *= s\n",
    "        return num_features\n",
    "    \n",
    "net = Net()\n",
    "print(net)"
   ]
  },
  {
   "cell_type": "code",
   "execution_count": 34,
   "metadata": {},
   "outputs": [],
   "source": [
    "input = torch.randn(1, 1, 32, 32)"
   ]
  },
  {
   "cell_type": "code",
   "execution_count": 62,
   "metadata": {},
   "outputs": [
    {
     "name": "stdout",
     "output_type": "stream",
     "text": [
      "tensor([0., 0., 0., 0., 0., 0., 0., 0., 0., 0., 0., 0., 0., 0., 0., 0., 0., 0., 0., 0., 0., 0., 0., 0.,\n",
      "        0., 0., 0., 0., 0., 0., 0., 0., 0., 0., 0., 0., 0., 0., 0., 0., 0., 0., 0., 0., 0., 0., 0., 0.,\n",
      "        0., 0., 0., 0., 0., 0., 0., 0., 0., 0., 0., 0., 0., 0., 0., 0., 0., 0., 0., 0., 0., 0., 0., 0.,\n",
      "        0., 0., 0., 0., 0., 0., 0., 0., 0., 0., 0., 0., 0., 0., 0., 0., 0., 0., 0., 0., 0., 0., 0., 0.,\n",
      "        0., 0., 0., 0., 0., 0., 0., 0., 0., 0., 0., 0., 0., 0., 0., 0., 0., 0., 0., 0., 0., 0., 0., 0.])\n",
      "tensor([ 0.0000e+00,  0.0000e+00,  0.0000e+00, -2.3886e-03,  0.0000e+00,\n",
      "         5.8390e-03, -3.4384e-03,  0.0000e+00, -4.2842e-04, -2.1810e-02,\n",
      "        -4.4317e-03,  0.0000e+00,  0.0000e+00, -5.8346e-03,  3.1148e-03,\n",
      "         0.0000e+00,  2.3394e-02,  0.0000e+00,  5.4328e-03,  1.1563e-02,\n",
      "         1.9078e-02,  0.0000e+00, -5.7501e-03, -1.6843e-02, -7.8907e-03,\n",
      "         0.0000e+00,  0.0000e+00,  0.0000e+00,  0.0000e+00,  0.0000e+00,\n",
      "         0.0000e+00,  0.0000e+00,  8.2680e-03,  0.0000e+00,  0.0000e+00,\n",
      "         0.0000e+00,  7.7604e-04, -3.6459e-03,  5.1146e-03,  0.0000e+00,\n",
      "         3.2179e-05,  0.0000e+00,  0.0000e+00,  5.6481e-03,  0.0000e+00,\n",
      "         0.0000e+00, -7.7216e-03,  1.1243e-02,  1.0354e-02,  0.0000e+00,\n",
      "         0.0000e+00,  1.7458e-03, -9.8716e-03,  0.0000e+00,  0.0000e+00,\n",
      "         0.0000e+00, -1.2221e-02,  4.0987e-03,  1.0248e-02, -1.6972e-02,\n",
      "         0.0000e+00,  2.5027e-03,  0.0000e+00,  0.0000e+00,  0.0000e+00,\n",
      "         0.0000e+00,  8.0016e-05,  8.8497e-04,  4.3155e-03, -1.3772e-02,\n",
      "        -9.8953e-03, -6.3610e-03,  0.0000e+00,  0.0000e+00, -2.7010e-03,\n",
      "        -9.5090e-03,  0.0000e+00,  2.2551e-03,  6.6287e-03,  0.0000e+00,\n",
      "         7.8930e-03,  0.0000e+00,  0.0000e+00,  6.0790e-03, -9.0213e-03,\n",
      "         0.0000e+00,  0.0000e+00,  0.0000e+00,  0.0000e+00,  0.0000e+00,\n",
      "         9.4858e-03,  4.4034e-04,  1.0845e-03,  0.0000e+00, -5.4815e-04,\n",
      "        -5.5147e-03,  0.0000e+00,  0.0000e+00,  4.3190e-03,  0.0000e+00,\n",
      "         0.0000e+00,  2.0460e-03,  0.0000e+00,  0.0000e+00, -5.4794e-03,\n",
      "         0.0000e+00, -4.8525e-04,  5.2506e-03,  0.0000e+00,  2.9064e-02,\n",
      "         0.0000e+00,  0.0000e+00,  0.0000e+00,  0.0000e+00,  3.5255e-03,\n",
      "         0.0000e+00,  0.0000e+00, -1.8105e-02,  0.0000e+00,  1.7529e-02])\n"
     ]
    }
   ],
   "source": [
    "# Демонстрация использования автограда для обучения\n",
    "output = net(input)\n",
    "target = torch.randn(output.size())\n",
    "\n",
    "# Обозначаем критерий ошибки\n",
    "criterion = nn.MSELoss()\n",
    "loss = criterion(output, target)\n",
    "\n",
    "# Для наглядности обнуляем накопленные градиенты\n",
    "net.zero_grad()\n",
    "print(net.fc1.bias.grad)\n",
    "\n",
    "# Проверяем, изменились ли градиенты\n",
    "loss.backward()\n",
    "print(net.fc1.bias.grad)"
   ]
  },
  {
   "cell_type": "markdown",
   "metadata": {},
   "source": [
    "## Обновление весов"
   ]
  },
  {
   "cell_type": "code",
   "execution_count": 67,
   "metadata": {},
   "outputs": [],
   "source": [
    "# Простая схема обновления весов\n",
    "\n",
    "learning_rate = 0.01\n",
    "for f in net.parameters():\n",
    "  f.data.sub_(f.grad.data * learning_rate)"
   ]
  },
  {
   "cell_type": "code",
   "execution_count": null,
   "metadata": {},
   "outputs": [],
   "source": [
    "# Можно испольховать строенные оптимизаторы из модуля torch.optim\n",
    "import torch.optim as optim\n",
    "\n",
    "# Создаем оптимизатор\n",
    "optimizer = optim.SGD(net.parameters(), lr=0.01)\n",
    "\n",
    "# Добавляем в обучающий цикл\n",
    "optimizer.zero_grad()\n",
    "output = net(input)\n",
    "loss = criterion(output, target)\n",
    "loss.backward()\n",
    "optimizer.step()"
   ]
  }
 ],
 "metadata": {
  "kernelspec": {
   "display_name": "Python 3",
   "language": "python",
   "name": "python3"
  },
  "language_info": {
   "codemirror_mode": {
    "name": "ipython",
    "version": 3
   },
   "file_extension": ".py",
   "mimetype": "text/x-python",
   "name": "python",
   "nbconvert_exporter": "python",
   "pygments_lexer": "ipython3",
   "version": "3.7.3"
  }
 },
 "nbformat": 4,
 "nbformat_minor": 2
}
